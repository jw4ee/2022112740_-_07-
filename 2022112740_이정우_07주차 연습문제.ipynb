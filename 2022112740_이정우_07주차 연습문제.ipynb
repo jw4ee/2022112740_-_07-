{
 "cells": [
  {
   "cell_type": "code",
   "execution_count": 1,
   "id": "0bf571f0",
   "metadata": {},
   "outputs": [
    {
     "name": "stdout",
     "output_type": "stream",
     "text": [
      "로미오의 주사위 숫자는 2입니다.\n",
      "줄리엣의 주사위 숫자는 5입니다.\n",
      "줄리엣이 이겼습니다.\n"
     ]
    }
   ],
   "source": [
    "import random as rd\n",
    "\n",
    "a = rd.randrange(1, 7)\n",
    "b = rd.randrange(1, 7)\n",
    "print('로미오의 주사위 숫자는 {}입니다.'.format(a))\n",
    "print('줄리엣의 주사위 숫자는 {}입니다.'.format(b))\n",
    "\n",
    "if(a > b):\n",
    "    print('로미오가 이겼습니다.')\n",
    "elif(a < b):\n",
    "    print('줄리엣이 이겼습니다.')    \n",
    "else:\n",
    "    print('비겼습니다.')"
   ]
  },
  {
   "cell_type": "code",
   "execution_count": 2,
   "id": "d3ee9135",
   "metadata": {},
   "outputs": [
    {
     "name": "stdout",
     "output_type": "stream",
     "text": [
      "1~20까지의 숫자를 입력하세요: 6\n",
      "6 보다 큽니다!\n",
      "1~20까지의 숫자를 입력하세요: 10\n",
      "2 번 만에 맞춘 당신은 천재!\n"
     ]
    }
   ],
   "source": [
    "import random as rd\n",
    "\n",
    "n = 0\n",
    "x = rd.randrange(1, 21)\n",
    "\n",
    "while(1):\n",
    "    n = n + 1\n",
    "    a = int(input('1~20까지의 숫자를 입력하세요: '))\n",
    "    \n",
    "    if(x == a):\n",
    "        if(n <= 3):\n",
    "            print(n, '번 만에 맞춘 당신은 천재!')\n",
    "            break\n",
    "        elif(3< n <= 6):\n",
    "            print(n, '번 만에 맞추셨네요. 잘 했어요^^')\n",
    "            break\n",
    "        else:\n",
    "            print(n, '번 만에 맞추다니 쩝쩝...')\n",
    "            break\n",
    "\n",
    "    elif(x > a):\n",
    "        print(a, '보다 큽니다!')\n",
    "    else:\n",
    "        print(a, '보다 작습니다!')\n"
   ]
  },
  {
   "cell_type": "code",
   "execution_count": 9,
   "id": "9231b14d",
   "metadata": {},
   "outputs": [
    {
     "name": "stdout",
     "output_type": "stream",
     "text": [
      "오늘은 2022년 10월 19일입니다\n",
      "춘향이와 몽룡이의 연애 시작일 : 2019년 2월 24일\n",
      "연애 시작일로 부터 경과한 날짜: 1333 일\n",
      "100일 기념일 : 2019년 6월 4일\n",
      "200일 기념일 : 2019년 9월 12일\n",
      "500일 기념일 : 2020년 7월 8일\n",
      "1000일 기념일 : 2021년 11월 20일\n"
     ]
    }
   ],
   "source": [
    "import datetime as dt\n",
    "today = dt.date.today()\n",
    "love = dt.datetime(2019, 2, 24)\n",
    "time_gap = dt.datetime.now() - love\n",
    "hundred = dt.timedelta(days = 100)\n",
    "twohundred = dt.timedelta(days = 200)\n",
    "fivehundred = dt.timedelta(days = 500)\n",
    "thousand = dt.timedelta(days = 1000)\n",
    "plus100day = love + hundred\n",
    "plus200day = love + twohundred\n",
    "plus500day = love + fivehundred\n",
    "plus1000day = love + thousand\n",
    "\n",
    "print('오늘은 {}년 {}월 {}일입니다'.format(today.year, today.month, today.day))\n",
    "print('춘향이와 몽룡이의 연애 시작일 : 2019년 2월 24일')\n",
    "print('연애 시작일로 부터 경과한 날짜:', time_gap.days, '일' )\n",
    "\n",
    "print('100일 기념일 : {}년 {}월 {}일'.format(plus100day.year, plus100day.month, plus100day.day))\n",
    "print('200일 기념일 : {}년 {}월 {}일'.format(plus200day.year, plus200day.month, plus200day.day))\n",
    "print('500일 기념일 : {}년 {}월 {}일'.format(plus500day.year, plus500day.month, plus500day.day))\n",
    "print('1000일 기념일 : {}년 {}월 {}일'.format(plus1000day.year, plus1000day.month, plus1000day.day))\n",
    "\n",
    "#사귄날로부터 기념일을 구했습니다."
   ]
  },
  {
   "cell_type": "code",
   "execution_count": 20,
   "id": "1868a3a7",
   "metadata": {},
   "outputs": [
    {
     "name": "stdout",
     "output_type": "stream",
     "text": [
      "1에서 1,000,000까지의 합을 100번 반복해서 구하는 시간: 4.363초\n"
     ]
    }
   ],
   "source": [
    "import time\n",
    "\n",
    "def sum1to1000000():\n",
    "    sum = 0\n",
    "    for i in range(1000001):\n",
    "        sum = sum + i\n",
    "\n",
    "second1 = time.time()\n",
    "for i in range(101):\n",
    "    sum1to1000000()\n",
    "second2 = time.time()\n",
    "\n",
    "print('1에서 1,000,000까지의 합을 100번 반복해서 구하는 시간: {:.4}초'.format(second2 - second1))\n"
   ]
  },
  {
   "cell_type": "code",
   "execution_count": 23,
   "id": "6ea5835b",
   "metadata": {},
   "outputs": [
    {
     "name": "stdout",
     "output_type": "stream",
     "text": [
      "40531\n",
      "221937\n",
      "956969\n",
      "629670\n",
      "849296\n",
      "228935\n",
      "587486\n",
      "537295\n",
      "858538\n",
      "16972\n"
     ]
    }
   ],
   "source": [
    "import random as rd\n",
    "\n",
    "def myRand():\n",
    "    for i in range(10):\n",
    "        print(rd.randrange(0, 1000001))\n",
    "        \n",
    "myRand()"
   ]
  },
  {
   "cell_type": "code",
   "execution_count": null,
   "id": "9c6c673f",
   "metadata": {},
   "outputs": [],
   "source": []
  }
 ],
 "metadata": {
  "kernelspec": {
   "display_name": "Python 3 (ipykernel)",
   "language": "python",
   "name": "python3"
  },
  "language_info": {
   "codemirror_mode": {
    "name": "ipython",
    "version": 3
   },
   "file_extension": ".py",
   "mimetype": "text/x-python",
   "name": "python",
   "nbconvert_exporter": "python",
   "pygments_lexer": "ipython3",
   "version": "3.9.12"
  }
 },
 "nbformat": 4,
 "nbformat_minor": 5
}
