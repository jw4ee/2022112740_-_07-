{
 "cells": [
  {
   "cell_type": "code",
   "execution_count": 14,
   "id": "e637efc9",
   "metadata": {},
   "outputs": [
    {
     "name": "stdout",
     "output_type": "stream",
     "text": [
      "오늘의 날짜 : 2022년 10월 13일\n",
      "현재시간 : 오후 2시 54분 45초\n"
     ]
    }
   ],
   "source": [
    "import datetime\n",
    "\n",
    "today = datetime.datetime.now()\n",
    "\n",
    "print('오늘의 날짜 : {}년 {}월 {}일'.format(today.year, today.month, today.day))\n",
    "\n",
    "if(today.hour > 12):\n",
    "    print('현재시간 : 오후 {}시 {}분 {}초'.format(today.hour - 12, today.minute, today.second))\n",
    "else:\n",
    "    print('현재시간 : 오wjs {}시 {}분 {}초'.format(today.hour, today.minute, today.second))\n",
    "\n",
    "    \n"
   ]
  },
  {
   "cell_type": "code",
   "execution_count": 21,
   "id": "4c6accbf",
   "metadata": {},
   "outputs": [
    {
     "name": "stdout",
     "output_type": "stream",
     "text": [
      "오늘은 2022년 10월 13일입니다\n",
      "2025년 크리스마스 까지는 1168일 8시간 남았습니다.\n",
      "오늘은 2022년 10월 13일입니다\n",
      "2036년 새해 까지는 4827일 8시간 남았습니다.\n",
      "오늘은 2022년 10월 13일입니다\n",
      "2023년 생일까지는 176일 8시간 남았습니다.\n"
     ]
    }
   ],
   "source": [
    "import datetime as dt\n",
    "today = dt.date.today()\n",
    "print('오늘은 {}년 {}월 {}일입니다'.format(today.year, today.month, today.day))\n",
    "xMas = dt.datetime(2025, 12, 25)\n",
    "time_gap = xMas - dt.datetime.now()\n",
    "print('2025년 크리스마스 까지는 {}일 {}시간 남았습니다.'.format(time_gap.days, time_gap.seconds // 3600))\n",
    "\n",
    "newYear = dt.datetime(2036, 1, 1)\n",
    "time_gap = newYear - dt.datetime.now()\n",
    "print('오늘은 {}년 {}월 {}일입니다'.format(today.year, today.month, today.day))\n",
    "print('2036년 새해 까지는 {}일 {}시간 남았습니다.'.format(time_gap.days, time_gap.seconds // 3600))\n",
    "\n",
    "birth = dt.datetime(2023, 4, 8)\n",
    "time_gap = birth - dt.datetime.now()\n",
    "print('오늘은 {}년 {}월 {}일입니다'.format(today.year, today.month, today.day))\n",
    "print('2023년 생일까지는 {}일 {}시간 남았습니다.'.format(time_gap.days, time_gap.seconds // 3600))\n"
   ]
  },
  {
   "cell_type": "code",
   "execution_count": 27,
   "id": "5f721669",
   "metadata": {},
   "outputs": [
    {
     "name": "stdout",
     "output_type": "stream",
     "text": [
      "오늘 날짜로부터 1000일 후 = 2025-07-09 15:53:10.674187\n",
      "처음으로 사귄 연도와 월, 일을 입력하시오 : 2019 3 30\n",
      "100일 기념일은 : 2019-07-08 00:00:00 입니다.\n"
     ]
    }
   ],
   "source": [
    "import datetime as dt\n",
    "thousand = dt.timedelta(days = 1000)\n",
    "plus1000day = dt.datetime.now() + thousand\n",
    "print('오늘 날짜로부터 1000일 후 =', plus1000day)\n",
    "\n",
    "a, b, c = map(int, input('처음으로 사귄 연도와 월, 일을 입력하시오 : ').split())\n",
    "hundred = dt.timedelta(days = 100)\n",
    "love = dt.datetime(a, b, c)\n",
    "plus100day = love + hundred\n",
    "print('100일 기념일은 :', plus100day, '입니다.')"
   ]
  },
  {
   "cell_type": "code",
   "execution_count": 45,
   "id": "0a948aad",
   "metadata": {},
   "outputs": [
    {
     "name": "stdout",
     "output_type": "stream",
     "text": [
      "4 **  2 = 16\n",
      "4 **  3 = 64\n",
      "4 **  4 = 256\n",
      "4 **  5 = 1024\n",
      "4 **  6 = 4096\n",
      "4 **  7 = 16384\n",
      "4 **  8 = 65536\n",
      "4 **  9 = 262144\n",
      "4 ** 10 = 1048576\n",
      "0 degree = 0.0 radian\n",
      "10 degree = 0.175 radian\n",
      "20 degree = 0.349 radian\n",
      "30 degree = 0.524 radian\n",
      "40 degree = 0.698 radian\n",
      "50 degree = 0.873 radian\n",
      "60 degree = 1.05 radian\n",
      "70 degree = 1.22 radian\n",
      "80 degree = 1.4 radian\n",
      "90 degree = 1.57 radian\n",
      "100 degree = 1.75 radian\n",
      "110 degree = 1.92 radian\n",
      "120 degree = 2.09 radian\n",
      "130 degree = 2.27 radian\n",
      "140 degree = 2.44 radian\n",
      "150 degree = 2.62 radian\n",
      "160 degree = 2.79 radian\n",
      "170 degree = 2.97 radian\n",
      "180 degree = 3.14 radian\n",
      "sin( 0) = 0.0\n",
      "sin( 10) = 0.17\n",
      "sin( 20) = 0.34\n",
      "sin( 30) = 0.5\n",
      "sin( 40) = 0.64\n",
      "sin( 50) = 0.77\n",
      "sin( 60) = 0.87\n",
      "sin( 70) = 0.94\n",
      "sin( 80) = 0.98\n",
      "sin( 90) = 1.0\n",
      "sin( 100) = 0.98\n",
      "sin( 110) = 0.94\n",
      "sin( 120) = 0.87\n",
      "sin( 130) = 0.77\n",
      "sin( 140) = 0.64\n",
      "sin( 150) = 0.5\n",
      "sin( 160) = 0.34\n",
      "sin( 170) = 0.17\n",
      "sin( 180) = 1.2e-16\n"
     ]
    }
   ],
   "source": [
    "import math as m\n",
    "\n",
    "for i in range(2, 11):\n",
    "    print('4 ** {:2} = {}'.format(i, 4 ** i))\n",
    "    \n",
    "for i in range(0, 181, 10):\n",
    "    print('{} degree = {:.3} radian'.format(i, i * (m.pi / 180)))\n",
    "    \n",
    "for i in range(0, 181, 10):\n",
    "    print('sin( {}) = {:.2}'.format(i, m.sin(i * (m.pi / 180))))\n",
    "    "
   ]
  },
  {
   "cell_type": "code",
   "execution_count": 49,
   "id": "9e7a6663",
   "metadata": {},
   "outputs": [
    {
     "name": "stdout",
     "output_type": "stream",
     "text": [
      "0에서 100 이하의 정수 중에서 5의 배수\n",
      "[90, 30, 40]\n",
      "1에서 10사이의 임의의 정수 : [10, 8, 7]\n"
     ]
    }
   ],
   "source": [
    "import random as rd \n",
    "list = []\n",
    "for i in range(3):\n",
    "    list.append(rd.randrange(5, 101, 5))\n",
    "print('0에서 100 이하의 정수 중에서 5의 배수')\n",
    "print(list)\n",
    "\n",
    "list1 = [1, 2, 3, 4, 5, 6, 7, 8, 9, 10]\n",
    "rd.sample(list1, 3)\n",
    "print('1에서 10사이의 임의의 정수 :', rd.sample(list1, 3))"
   ]
  },
  {
   "cell_type": "code",
   "execution_count": 51,
   "id": "13aeb2b6",
   "metadata": {},
   "outputs": [
    {
     "name": "stdout",
     "output_type": "stream",
     "text": [
      "[32, 11, 4, 42, 13, 43]\n"
     ]
    }
   ],
   "source": [
    "import random as rd \n",
    "\n",
    "list = []\n",
    "for i in range(1, 46):\n",
    "    list.append(i)\n",
    "rd.shuffle(list)\n",
    "a = list[:6]\n",
    "sorted(a)\n",
    "print(a)\n"
   ]
  },
  {
   "cell_type": "code",
   "execution_count": 52,
   "id": "a46cc374",
   "metadata": {},
   "outputs": [
    {
     "data": {
      "text/plain": [
       "[1, 2, 3, 4, 5, 6, 7, 8, 9]"
      ]
     },
     "execution_count": 52,
     "metadata": {},
     "output_type": "execute_result"
    }
   ],
   "source": [
    "list = [1, 2, 3, 7, 8, 9]\n",
    "list.insert(3, 4)\n",
    "list.insert(4, 5)\n",
    "list.insert(5, 6)\n",
    "\n",
    "list\n"
   ]
  },
  {
   "cell_type": "code",
   "execution_count": null,
   "id": "f7bef9d0",
   "metadata": {},
   "outputs": [],
   "source": []
  }
 ],
 "metadata": {
  "kernelspec": {
   "display_name": "Python 3 (ipykernel)",
   "language": "python",
   "name": "python3"
  },
  "language_info": {
   "codemirror_mode": {
    "name": "ipython",
    "version": 3
   },
   "file_extension": ".py",
   "mimetype": "text/x-python",
   "name": "python",
   "nbconvert_exporter": "python",
   "pygments_lexer": "ipython3",
   "version": "3.9.12"
  }
 },
 "nbformat": 4,
 "nbformat_minor": 5
}
